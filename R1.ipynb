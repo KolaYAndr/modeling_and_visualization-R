{
  "nbformat": 4,
  "nbformat_minor": 0,
  "metadata": {
    "colab": {
      "provenance": [],
      "collapsed_sections": []
    },
    "kernelspec": {
      "name": "ir",
      "display_name": "R"
    },
    "language_info": {
      "name": "R"
    }
  },
  "cells": [
    {
      "cell_type": "markdown",
      "source": [
        "Для выполнения заданий возьмите данные из папки data о продажах. Данные распределены по 4 папкам:\n",
        "\n",
        "\n",
        "*  sales_train.csv - данные о продажах с января 2013 по октябрь 2015.\n",
        "\n",
        "  *   date - дата продажы\n",
        "  *   date_block_num - номер месяца по порядку следования\n",
        "  *   shop_id - идентификатор магазина\n",
        "  *   item_id - идентификатор товара\n",
        "  *  item_cnt_day - количество проданного товара одного вида в день\n",
        "*   items.csv - подробная информация о товарах\n",
        "  *   item_id - идентификатор товара\n",
        "  *   item_name - название товара\n",
        "  *   category_id - идентификатор категории товара\n",
        "*   item_categories.csv - подробная информация о категориях товаров\n",
        "  *   item_category_id - идентификатор категории товара\n",
        "  *   category_name - название категории товара\n",
        "*   shops.csv - подробная информация о магазинах\n",
        "  * shop_id - идентификатор магазина\n",
        "  * shop_name - название магазина\n"
      ],
      "metadata": {
        "id": "M4lrB-F5AUfY"
      }
    },
    {
      "cell_type": "markdown",
      "source": [
        "# Задание 1\n",
        "\n",
        "\n",
        "1.   Найдите топ-10 самых часто покупаемых товаров (не забудьте учесть столбец item_cnt_day).\n",
        "2.   Оставьте только те из них, которые покупали все три года (2013, 2014, 2015).\n"
      ],
      "metadata": {
        "id": "fT0M0egeBhzd"
      }
    },
    {
      "cell_type": "code",
      "execution_count": null,
      "metadata": {
        "id": "ZruoA21w_5ka",
        "colab": {
          "base_uri": "https://localhost:8080/"
        },
        "outputId": "f72695af-a9cb-4d96-c803-d9e3a64e8597"
      },
      "outputs": [
        {
          "output_type": "stream",
          "name": "stderr",
          "text": [
            "\n",
            "Attaching package: ‘dplyr’\n",
            "\n",
            "\n",
            "The following objects are masked from ‘package:stats’:\n",
            "\n",
            "    filter, lag\n",
            "\n",
            "\n",
            "The following objects are masked from ‘package:base’:\n",
            "\n",
            "    intersect, setdiff, setequal, union\n",
            "\n",
            "\n"
          ]
        }
      ],
      "source": [
        "sales_train <- read.csv('https://drive.google.com/uc?export=download&confirm=no_antivirus&id=1jSJU4h7A-TNKuWH0ClzYx3dfCJiTD21g')\n",
        "item_categories <- read.csv('https://drive.google.com/uc?export=download&confirm=no_antivirus&id=1oIUxVxRLj03vVHShVCay8ZHW9a9D9M0m')\n",
        "items <- read.csv('https://drive.google.com/uc?export=download&confirm=no_antivirus&id=1QdYmeqN_oq_fcbe77SX7xb_hCviNd0HO')\n",
        "shops <- read.csv('https://drive.google.com/uc?export=download&confirm=no_antivirus&id=1gRFn6w4uRFoUmbZrjaspLjJdtRCMzxyx')\n",
        "library(dplyr)"
      ]
    },
    {
      "cell_type": "code",
      "source": [
        "#1.1\n",
        "result = sales_train %>%\n",
        "           group_by(item_id) %>%\n",
        "           summarise(total_sales = sum(item_cnt_day))\n",
        "\n",
        "result = result[order(result$total_sales, decreasing = TRUE), ]\n",
        "result = head(result, n=10)\n",
        "result"
      ],
      "metadata": {
        "colab": {
          "base_uri": "https://localhost:8080/",
          "height": 411
        },
        "id": "_J8ZiXjRJGic",
        "outputId": "7fd8306a-37bc-4479-a6f2-fda84a178427"
      },
      "execution_count": null,
      "outputs": [
        {
          "output_type": "display_data",
          "data": {
            "text/html": [
              "<table class=\"dataframe\">\n",
              "<caption>A tibble: 10 × 2</caption>\n",
              "<thead>\n",
              "\t<tr><th scope=col>item_id</th><th scope=col>total_sales</th></tr>\n",
              "\t<tr><th scope=col>&lt;int&gt;</th><th scope=col>&lt;dbl&gt;</th></tr>\n",
              "</thead>\n",
              "<tbody>\n",
              "\t<tr><td>20949</td><td>187642</td></tr>\n",
              "\t<tr><td> 2808</td><td> 17245</td></tr>\n",
              "\t<tr><td> 3732</td><td> 16642</td></tr>\n",
              "\t<tr><td>17717</td><td> 15830</td></tr>\n",
              "\t<tr><td> 5822</td><td> 14515</td></tr>\n",
              "\t<tr><td> 3734</td><td> 11688</td></tr>\n",
              "\t<tr><td> 6675</td><td> 10289</td></tr>\n",
              "\t<tr><td> 3731</td><td> 10099</td></tr>\n",
              "\t<tr><td> 1855</td><td> 10032</td></tr>\n",
              "\t<tr><td>16787</td><td>  9227</td></tr>\n",
              "</tbody>\n",
              "</table>\n"
            ],
            "text/markdown": "\nA tibble: 10 × 2\n\n| item_id &lt;int&gt; | total_sales &lt;dbl&gt; |\n|---|---|\n| 20949 | 187642 |\n|  2808 |  17245 |\n|  3732 |  16642 |\n| 17717 |  15830 |\n|  5822 |  14515 |\n|  3734 |  11688 |\n|  6675 |  10289 |\n|  3731 |  10099 |\n|  1855 |  10032 |\n| 16787 |   9227 |\n\n",
            "text/latex": "A tibble: 10 × 2\n\\begin{tabular}{ll}\n item\\_id & total\\_sales\\\\\n <int> & <dbl>\\\\\n\\hline\n\t 20949 & 187642\\\\\n\t  2808 &  17245\\\\\n\t  3732 &  16642\\\\\n\t 17717 &  15830\\\\\n\t  5822 &  14515\\\\\n\t  3734 &  11688\\\\\n\t  6675 &  10289\\\\\n\t  3731 &  10099\\\\\n\t  1855 &  10032\\\\\n\t 16787 &   9227\\\\\n\\end{tabular}\n",
            "text/plain": [
              "   item_id total_sales\n",
              "1  20949   187642     \n",
              "2   2808    17245     \n",
              "3   3732    16642     \n",
              "4  17717    15830     \n",
              "5   5822    14515     \n",
              "6   3734    11688     \n",
              "7   6675    10289     \n",
              "8   3731    10099     \n",
              "9   1855    10032     \n",
              "10 16787     9227     "
            ]
          },
          "metadata": {}
        }
      ]
    },
    {
      "cell_type": "code",
      "source": [
        "#1.2\n",
        "sales_copy <- sales_train\n",
        "\n",
        "rule36 <- filter(sales_copy, date_block_num >= 24 & date_block_num < 36)\n",
        "rule24 <- filter(sales_copy, date_block_num >= 12 & date_block_num < 24)\n",
        "rule12 <- filter(sales_copy, date_block_num < 12)\n",
        "\n",
        "result[(result$item_id %in% rule12$item_id) & (result$item_id %in% rule24$item_id) & (result$item_id %in% rule36$item_id), ]"
      ],
      "metadata": {
        "id": "PDe9g4L_NVm7",
        "colab": {
          "base_uri": "https://localhost:8080/",
          "height": 380
        },
        "outputId": "2aeae8b3-d34c-4e08-e9c3-70bbd1f634a8"
      },
      "execution_count": null,
      "outputs": [
        {
          "output_type": "display_data",
          "data": {
            "text/html": [
              "<table class=\"dataframe\">\n",
              "<caption>A tibble: 9 × 2</caption>\n",
              "<thead>\n",
              "\t<tr><th scope=col>item_id</th><th scope=col>total_sales</th></tr>\n",
              "\t<tr><th scope=col>&lt;int&gt;</th><th scope=col>&lt;dbl&gt;</th></tr>\n",
              "</thead>\n",
              "<tbody>\n",
              "\t<tr><td>20949</td><td>187642</td></tr>\n",
              "\t<tr><td> 2808</td><td> 17245</td></tr>\n",
              "\t<tr><td> 3732</td><td> 16642</td></tr>\n",
              "\t<tr><td>17717</td><td> 15830</td></tr>\n",
              "\t<tr><td> 5822</td><td> 14515</td></tr>\n",
              "\t<tr><td> 3734</td><td> 11688</td></tr>\n",
              "\t<tr><td> 6675</td><td> 10289</td></tr>\n",
              "\t<tr><td> 1855</td><td> 10032</td></tr>\n",
              "\t<tr><td>16787</td><td>  9227</td></tr>\n",
              "</tbody>\n",
              "</table>\n"
            ],
            "text/markdown": "\nA tibble: 9 × 2\n\n| item_id &lt;int&gt; | total_sales &lt;dbl&gt; |\n|---|---|\n| 20949 | 187642 |\n|  2808 |  17245 |\n|  3732 |  16642 |\n| 17717 |  15830 |\n|  5822 |  14515 |\n|  3734 |  11688 |\n|  6675 |  10289 |\n|  1855 |  10032 |\n| 16787 |   9227 |\n\n",
            "text/latex": "A tibble: 9 × 2\n\\begin{tabular}{ll}\n item\\_id & total\\_sales\\\\\n <int> & <dbl>\\\\\n\\hline\n\t 20949 & 187642\\\\\n\t  2808 &  17245\\\\\n\t  3732 &  16642\\\\\n\t 17717 &  15830\\\\\n\t  5822 &  14515\\\\\n\t  3734 &  11688\\\\\n\t  6675 &  10289\\\\\n\t  1855 &  10032\\\\\n\t 16787 &   9227\\\\\n\\end{tabular}\n",
            "text/plain": [
              "  item_id total_sales\n",
              "1 20949   187642     \n",
              "2  2808    17245     \n",
              "3  3732    16642     \n",
              "4 17717    15830     \n",
              "5  5822    14515     \n",
              "6  3734    11688     \n",
              "7  6675    10289     \n",
              "8  1855    10032     \n",
              "9 16787     9227     "
            ]
          },
          "metadata": {}
        }
      ]
    },
    {
      "cell_type": "markdown",
      "source": [
        "# Задание 2\n",
        "\n",
        "1.   Определите категорию товаров, в которой совершается минимальное число покупок. Выведите айди и название категории.\n",
        "2.   Определите категорию товаров, в которой совершается максимальное число покупок. Выведите айди и название категории.\n",
        "\n"
      ],
      "metadata": {
        "id": "AukRQy9tBr95"
      }
    },
    {
      "cell_type": "code",
      "source": [
        "items_copy <- items\n",
        "sales_newcopy <- sales_train\n",
        "\n",
        "items_frame <- merge(sales_newcopy, items_copy, by='item_id')\n",
        "items_frame = items_frame %>%\n",
        "                  group_by(category_id) %>%\n",
        "                  summarise(total_sales = sum(item_cnt_day))\n",
        "\n",
        "max_cat <- items_frame[items_frame$total_sales == max(items_frame$total_sales), ]\n",
        "min_cat <- items_frame[items_frame$total_sales == min(items_frame$total_sales), ]\n",
        "#items_frame[which.max(items_frame$total_sales), ]\n",
        "\n",
        "print('Минимальные категории')\n",
        "item_categories[item_categories$item_category_id %in% min_cat$category_id, ]\n",
        "print('Максимальная категория')\n",
        "item_categories[item_categories$item_category_id %in% max_cat$category_id, ]"
      ],
      "metadata": {
        "id": "fzNyoHnQB1W_",
        "colab": {
          "base_uri": "https://localhost:8080/",
          "height": 308
        },
        "outputId": "5f36e1b7-f98d-4766-f2df-34ce0db2b259"
      },
      "execution_count": null,
      "outputs": [
        {
          "output_type": "stream",
          "name": "stdout",
          "text": [
            "[1] \"Минимальные категории\"\n"
          ]
        },
        {
          "output_type": "display_data",
          "data": {
            "text/html": [
              "<table class=\"dataframe\">\n",
              "<caption>A data.frame: 2 × 2</caption>\n",
              "<thead>\n",
              "\t<tr><th></th><th scope=col>item_category_name</th><th scope=col>item_category_id</th></tr>\n",
              "\t<tr><th></th><th scope=col>&lt;chr&gt;</th><th scope=col>&lt;int&gt;</th></tr>\n",
              "</thead>\n",
              "<tbody>\n",
              "\t<tr><th scope=row>11</th><td> Game consoles - PS2         </td><td>10</td></tr>\n",
              "\t<tr><th scope=row>52</th><td> Books - Cognitive literature</td><td>51</td></tr>\n",
              "</tbody>\n",
              "</table>\n"
            ],
            "text/markdown": "\nA data.frame: 2 × 2\n\n| <!--/--> | item_category_name &lt;chr&gt; | item_category_id &lt;int&gt; |\n|---|---|---|\n| 11 |  Game consoles - PS2          | 10 |\n| 52 |  Books - Cognitive literature | 51 |\n\n",
            "text/latex": "A data.frame: 2 × 2\n\\begin{tabular}{r|ll}\n  & item\\_category\\_name & item\\_category\\_id\\\\\n  & <chr> & <int>\\\\\n\\hline\n\t11 &  Game consoles - PS2          & 10\\\\\n\t52 &  Books - Cognitive literature & 51\\\\\n\\end{tabular}\n",
            "text/plain": [
              "   item_category_name            item_category_id\n",
              "11  Game consoles - PS2          10              \n",
              "52  Books - Cognitive literature 51              "
            ]
          },
          "metadata": {}
        },
        {
          "output_type": "stream",
          "name": "stdout",
          "text": [
            "[1] \"Максимальная категория\"\n"
          ]
        },
        {
          "output_type": "display_data",
          "data": {
            "text/html": [
              "<table class=\"dataframe\">\n",
              "<caption>A data.frame: 1 × 2</caption>\n",
              "<thead>\n",
              "\t<tr><th></th><th scope=col>item_category_name</th><th scope=col>item_category_id</th></tr>\n",
              "\t<tr><th></th><th scope=col>&lt;chr&gt;</th><th scope=col>&lt;int&gt;</th></tr>\n",
              "</thead>\n",
              "<tbody>\n",
              "\t<tr><th scope=row>41</th><td> Cinema - DVD</td><td>40</td></tr>\n",
              "</tbody>\n",
              "</table>\n"
            ],
            "text/markdown": "\nA data.frame: 1 × 2\n\n| <!--/--> | item_category_name &lt;chr&gt; | item_category_id &lt;int&gt; |\n|---|---|---|\n| 41 |  Cinema - DVD | 40 |\n\n",
            "text/latex": "A data.frame: 1 × 2\n\\begin{tabular}{r|ll}\n  & item\\_category\\_name & item\\_category\\_id\\\\\n  & <chr> & <int>\\\\\n\\hline\n\t41 &  Cinema - DVD & 40\\\\\n\\end{tabular}\n",
            "text/plain": [
              "   item_category_name item_category_id\n",
              "41  Cinema - DVD      40              "
            ]
          },
          "metadata": {}
        }
      ]
    },
    {
      "cell_type": "markdown",
      "source": [
        "# Задание 3\n",
        "\n",
        "1.   Для категорий из задания 2 найдите среднее количество продаж каждого товара категории в 5 магазинах с наибольшими продажами.\n",
        "2.   Найдите месяцы с минимальными и максимальными продажами для каждого товара из пункта 1.\n",
        "\n"
      ],
      "metadata": {
        "id": "eSgC8ofrB2qB"
      }
    },
    {
      "cell_type": "code",
      "source": [
        "#3.1\n",
        "shop_sales <- sales_train\n",
        "sales_frame <- sales_train\n",
        "items_newcopy <- items\n",
        "\n",
        "shop_sales <- shop_sales %>%\n",
        "              group_by(shop_id) %>%\n",
        "              summarise(total_sales = sum(item_cnt_day))\n",
        "shop_sales <- head(shop_sales[order(shop_sales$total_sales, decreasing = TRUE), ], 5)\n",
        "\n",
        "sales_frame <- merge(sales_frame, items_newcopy, by = 'item_id')\n",
        "\n",
        "min_frame <- sales_frame[(sales_frame$category_id %in% min_cat$category_id), ]\n",
        "\n",
        "min_frame <- min_frame[min_frame$shop_id %in% shop_sales$shop_id, ]\n",
        "\n",
        "min_frame <- min_frame %>%\n",
        "                group_by(item_id, shop_id) %>%\n",
        "                summarise(total_sales = sum(item_cnt_day))\n",
        "\n",
        "\n",
        "\n",
        "min_frame <- min_frame %>%\n",
        "                group_by(item_id) %>%\n",
        "                summarise(mean_sales = mean(total_sales))\n",
        "\n",
        "min_frame\n",
        "#продаж для минимальной категории нет в топовых магазинах"
      ],
      "metadata": {
        "id": "xFV8moZtB7d9",
        "colab": {
          "base_uri": "https://localhost:8080/",
          "height": 133
        },
        "outputId": "93371f48-6d63-4778-d757-3da502cb7afa"
      },
      "execution_count": null,
      "outputs": [
        {
          "output_type": "stream",
          "name": "stderr",
          "text": [
            "\u001b[1m\u001b[22m`summarise()` has grouped output by 'item_id'. You can override using the\n",
            "`.groups` argument.\n"
          ]
        },
        {
          "output_type": "display_data",
          "data": {
            "text/html": [
              "<table class=\"dataframe\">\n",
              "<caption>A tibble: 0 × 2</caption>\n",
              "<thead>\n",
              "\t<tr><th scope=col>item_id</th><th scope=col>mean_sales</th></tr>\n",
              "\t<tr><th scope=col>&lt;int&gt;</th><th scope=col>&lt;dbl&gt;</th></tr>\n",
              "</thead>\n",
              "<tbody>\n",
              "</tbody>\n",
              "</table>\n"
            ],
            "text/markdown": "\nA tibble: 0 × 2\n\n| item_id &lt;int&gt; | mean_sales &lt;dbl&gt; |\n|---|---|\n\n",
            "text/latex": "A tibble: 0 × 2\n\\begin{tabular}{ll}\n item\\_id & mean\\_sales\\\\\n <int> & <dbl>\\\\\n\\hline\n\\end{tabular}\n",
            "text/plain": [
              "     item_id mean_sales"
            ]
          },
          "metadata": {}
        }
      ]
    },
    {
      "cell_type": "code",
      "source": [
        "max_frame <- sales_frame[(sales_frame$category_id %in% max_cat$category_id), ]\n",
        "\n",
        "max_frame <- max_frame[max_frame$shop_id %in% shop_sales$shop_id, ]\n",
        "\n",
        "max_frame <- max_frame %>%\n",
        "                group_by(item_id, shop_id) %>%\n",
        "                summarise(total_sales = sum(item_cnt_day))\n",
        "\n",
        "\n",
        "\n",
        "max_frame <- max_frame %>%\n",
        "                group_by(item_id) %>%\n",
        "                summarise(mean_sales = mean(total_sales))\n",
        "\n",
        "max_frame"
      ],
      "metadata": {
        "colab": {
          "base_uri": "https://localhost:8080/",
          "height": 1000
        },
        "id": "3l3C2cFUUzuN",
        "outputId": "7883f039-8a35-4de0-ed0c-4dc1466f7fcf"
      },
      "execution_count": null,
      "outputs": [
        {
          "output_type": "stream",
          "name": "stderr",
          "text": [
            "\u001b[1m\u001b[22m`summarise()` has grouped output by 'item_id'. You can override using the\n",
            "`.groups` argument.\n"
          ]
        },
        {
          "output_type": "display_data",
          "data": {
            "text/html": [
              "<table class=\"dataframe\">\n",
              "<caption>A tibble: 4714 × 2</caption>\n",
              "<thead>\n",
              "\t<tr><th scope=col>item_id</th><th scope=col>mean_sales</th></tr>\n",
              "\t<tr><th scope=col>&lt;int&gt;</th><th scope=col>&lt;dbl&gt;</th></tr>\n",
              "</thead>\n",
              "<tbody>\n",
              "\t<tr><td> 0</td><td>  1.000000</td></tr>\n",
              "\t<tr><td> 2</td><td>  2.000000</td></tr>\n",
              "\t<tr><td> 3</td><td>  2.000000</td></tr>\n",
              "\t<tr><td> 4</td><td>  1.000000</td></tr>\n",
              "\t<tr><td> 5</td><td>  1.000000</td></tr>\n",
              "\t<tr><td> 6</td><td>  1.000000</td></tr>\n",
              "\t<tr><td> 7</td><td>  1.000000</td></tr>\n",
              "\t<tr><td> 8</td><td>  2.000000</td></tr>\n",
              "\t<tr><td> 9</td><td>  1.000000</td></tr>\n",
              "\t<tr><td>10</td><td>  1.000000</td></tr>\n",
              "\t<tr><td>11</td><td>  1.000000</td></tr>\n",
              "\t<tr><td>13</td><td>  1.000000</td></tr>\n",
              "\t<tr><td>14</td><td>  1.000000</td></tr>\n",
              "\t<tr><td>15</td><td>  1.000000</td></tr>\n",
              "\t<tr><td>18</td><td>  1.000000</td></tr>\n",
              "\t<tr><td>19</td><td>  1.000000</td></tr>\n",
              "\t<tr><td>20</td><td>  1.000000</td></tr>\n",
              "\t<tr><td>21</td><td>  1.000000</td></tr>\n",
              "\t<tr><td>22</td><td>  1.000000</td></tr>\n",
              "\t<tr><td>23</td><td>  1.000000</td></tr>\n",
              "\t<tr><td>24</td><td>  1.000000</td></tr>\n",
              "\t<tr><td>25</td><td>  1.000000</td></tr>\n",
              "\t<tr><td>26</td><td>  1.000000</td></tr>\n",
              "\t<tr><td>30</td><td>172.000000</td></tr>\n",
              "\t<tr><td>32</td><td>166.600000</td></tr>\n",
              "\t<tr><td>34</td><td>  7.800000</td></tr>\n",
              "\t<tr><td>35</td><td> 18.000000</td></tr>\n",
              "\t<tr><td>37</td><td> 12.400000</td></tr>\n",
              "\t<tr><td>43</td><td>  1.000000</td></tr>\n",
              "\t<tr><td>63</td><td>  1.333333</td></tr>\n",
              "\t<tr><td>⋮</td><td>⋮</td></tr>\n",
              "\t<tr><td>22075</td><td> 3.500000</td></tr>\n",
              "\t<tr><td>22108</td><td> 1.000000</td></tr>\n",
              "\t<tr><td>22114</td><td> 8.000000</td></tr>\n",
              "\t<tr><td>22116</td><td> 2.000000</td></tr>\n",
              "\t<tr><td>22119</td><td> 6.600000</td></tr>\n",
              "\t<tr><td>22120</td><td> 2.800000</td></tr>\n",
              "\t<tr><td>22121</td><td>36.800000</td></tr>\n",
              "\t<tr><td>22123</td><td> 5.400000</td></tr>\n",
              "\t<tr><td>22124</td><td> 1.000000</td></tr>\n",
              "\t<tr><td>22126</td><td>19.400000</td></tr>\n",
              "\t<tr><td>22128</td><td> 3.333333</td></tr>\n",
              "\t<tr><td>22129</td><td> 2.250000</td></tr>\n",
              "\t<tr><td>22130</td><td>26.200000</td></tr>\n",
              "\t<tr><td>22132</td><td> 9.000000</td></tr>\n",
              "\t<tr><td>22133</td><td> 4.600000</td></tr>\n",
              "\t<tr><td>22134</td><td>24.800000</td></tr>\n",
              "\t<tr><td>22136</td><td> 5.200000</td></tr>\n",
              "\t<tr><td>22141</td><td> 6.200000</td></tr>\n",
              "\t<tr><td>22143</td><td>54.600000</td></tr>\n",
              "\t<tr><td>22147</td><td> 5.500000</td></tr>\n",
              "\t<tr><td>22148</td><td> 1.000000</td></tr>\n",
              "\t<tr><td>22149</td><td> 3.000000</td></tr>\n",
              "\t<tr><td>22151</td><td>30.800000</td></tr>\n",
              "\t<tr><td>22152</td><td> 5.250000</td></tr>\n",
              "\t<tr><td>22156</td><td> 1.000000</td></tr>\n",
              "\t<tr><td>22157</td><td> 1.000000</td></tr>\n",
              "\t<tr><td>22159</td><td> 2.000000</td></tr>\n",
              "\t<tr><td>22160</td><td> 4.500000</td></tr>\n",
              "\t<tr><td>22162</td><td>55.400000</td></tr>\n",
              "\t<tr><td>22163</td><td> 9.750000</td></tr>\n",
              "</tbody>\n",
              "</table>\n"
            ],
            "text/markdown": "\nA tibble: 4714 × 2\n\n| item_id &lt;int&gt; | mean_sales &lt;dbl&gt; |\n|---|---|\n|  0 |   1.000000 |\n|  2 |   2.000000 |\n|  3 |   2.000000 |\n|  4 |   1.000000 |\n|  5 |   1.000000 |\n|  6 |   1.000000 |\n|  7 |   1.000000 |\n|  8 |   2.000000 |\n|  9 |   1.000000 |\n| 10 |   1.000000 |\n| 11 |   1.000000 |\n| 13 |   1.000000 |\n| 14 |   1.000000 |\n| 15 |   1.000000 |\n| 18 |   1.000000 |\n| 19 |   1.000000 |\n| 20 |   1.000000 |\n| 21 |   1.000000 |\n| 22 |   1.000000 |\n| 23 |   1.000000 |\n| 24 |   1.000000 |\n| 25 |   1.000000 |\n| 26 |   1.000000 |\n| 30 | 172.000000 |\n| 32 | 166.600000 |\n| 34 |   7.800000 |\n| 35 |  18.000000 |\n| 37 |  12.400000 |\n| 43 |   1.000000 |\n| 63 |   1.333333 |\n| ⋮ | ⋮ |\n| 22075 |  3.500000 |\n| 22108 |  1.000000 |\n| 22114 |  8.000000 |\n| 22116 |  2.000000 |\n| 22119 |  6.600000 |\n| 22120 |  2.800000 |\n| 22121 | 36.800000 |\n| 22123 |  5.400000 |\n| 22124 |  1.000000 |\n| 22126 | 19.400000 |\n| 22128 |  3.333333 |\n| 22129 |  2.250000 |\n| 22130 | 26.200000 |\n| 22132 |  9.000000 |\n| 22133 |  4.600000 |\n| 22134 | 24.800000 |\n| 22136 |  5.200000 |\n| 22141 |  6.200000 |\n| 22143 | 54.600000 |\n| 22147 |  5.500000 |\n| 22148 |  1.000000 |\n| 22149 |  3.000000 |\n| 22151 | 30.800000 |\n| 22152 |  5.250000 |\n| 22156 |  1.000000 |\n| 22157 |  1.000000 |\n| 22159 |  2.000000 |\n| 22160 |  4.500000 |\n| 22162 | 55.400000 |\n| 22163 |  9.750000 |\n\n",
            "text/latex": "A tibble: 4714 × 2\n\\begin{tabular}{ll}\n item\\_id & mean\\_sales\\\\\n <int> & <dbl>\\\\\n\\hline\n\t  0 &   1.000000\\\\\n\t  2 &   2.000000\\\\\n\t  3 &   2.000000\\\\\n\t  4 &   1.000000\\\\\n\t  5 &   1.000000\\\\\n\t  6 &   1.000000\\\\\n\t  7 &   1.000000\\\\\n\t  8 &   2.000000\\\\\n\t  9 &   1.000000\\\\\n\t 10 &   1.000000\\\\\n\t 11 &   1.000000\\\\\n\t 13 &   1.000000\\\\\n\t 14 &   1.000000\\\\\n\t 15 &   1.000000\\\\\n\t 18 &   1.000000\\\\\n\t 19 &   1.000000\\\\\n\t 20 &   1.000000\\\\\n\t 21 &   1.000000\\\\\n\t 22 &   1.000000\\\\\n\t 23 &   1.000000\\\\\n\t 24 &   1.000000\\\\\n\t 25 &   1.000000\\\\\n\t 26 &   1.000000\\\\\n\t 30 & 172.000000\\\\\n\t 32 & 166.600000\\\\\n\t 34 &   7.800000\\\\\n\t 35 &  18.000000\\\\\n\t 37 &  12.400000\\\\\n\t 43 &   1.000000\\\\\n\t 63 &   1.333333\\\\\n\t ⋮ & ⋮\\\\\n\t 22075 &  3.500000\\\\\n\t 22108 &  1.000000\\\\\n\t 22114 &  8.000000\\\\\n\t 22116 &  2.000000\\\\\n\t 22119 &  6.600000\\\\\n\t 22120 &  2.800000\\\\\n\t 22121 & 36.800000\\\\\n\t 22123 &  5.400000\\\\\n\t 22124 &  1.000000\\\\\n\t 22126 & 19.400000\\\\\n\t 22128 &  3.333333\\\\\n\t 22129 &  2.250000\\\\\n\t 22130 & 26.200000\\\\\n\t 22132 &  9.000000\\\\\n\t 22133 &  4.600000\\\\\n\t 22134 & 24.800000\\\\\n\t 22136 &  5.200000\\\\\n\t 22141 &  6.200000\\\\\n\t 22143 & 54.600000\\\\\n\t 22147 &  5.500000\\\\\n\t 22148 &  1.000000\\\\\n\t 22149 &  3.000000\\\\\n\t 22151 & 30.800000\\\\\n\t 22152 &  5.250000\\\\\n\t 22156 &  1.000000\\\\\n\t 22157 &  1.000000\\\\\n\t 22159 &  2.000000\\\\\n\t 22160 &  4.500000\\\\\n\t 22162 & 55.400000\\\\\n\t 22163 &  9.750000\\\\\n\\end{tabular}\n",
            "text/plain": [
              "     item_id mean_sales\n",
              "1     0        1.000000\n",
              "2     2        2.000000\n",
              "3     3        2.000000\n",
              "4     4        1.000000\n",
              "5     5        1.000000\n",
              "6     6        1.000000\n",
              "7     7        1.000000\n",
              "8     8        2.000000\n",
              "9     9        1.000000\n",
              "10   10        1.000000\n",
              "11   11        1.000000\n",
              "12   13        1.000000\n",
              "13   14        1.000000\n",
              "14   15        1.000000\n",
              "15   18        1.000000\n",
              "16   19        1.000000\n",
              "17   20        1.000000\n",
              "18   21        1.000000\n",
              "19   22        1.000000\n",
              "20   23        1.000000\n",
              "21   24        1.000000\n",
              "22   25        1.000000\n",
              "23   26        1.000000\n",
              "24   30      172.000000\n",
              "25   32      166.600000\n",
              "26   34        7.800000\n",
              "27   35       18.000000\n",
              "28   37       12.400000\n",
              "29   43        1.000000\n",
              "30   63        1.333333\n",
              "⋮    ⋮       ⋮         \n",
              "4685 22075    3.500000 \n",
              "4686 22108    1.000000 \n",
              "4687 22114    8.000000 \n",
              "4688 22116    2.000000 \n",
              "4689 22119    6.600000 \n",
              "4690 22120    2.800000 \n",
              "4691 22121   36.800000 \n",
              "4692 22123    5.400000 \n",
              "4693 22124    1.000000 \n",
              "4694 22126   19.400000 \n",
              "4695 22128    3.333333 \n",
              "4696 22129    2.250000 \n",
              "4697 22130   26.200000 \n",
              "4698 22132    9.000000 \n",
              "4699 22133    4.600000 \n",
              "4700 22134   24.800000 \n",
              "4701 22136    5.200000 \n",
              "4702 22141    6.200000 \n",
              "4703 22143   54.600000 \n",
              "4704 22147    5.500000 \n",
              "4705 22148    1.000000 \n",
              "4706 22149    3.000000 \n",
              "4707 22151   30.800000 \n",
              "4708 22152    5.250000 \n",
              "4709 22156    1.000000 \n",
              "4710 22157    1.000000 \n",
              "4711 22159    2.000000 \n",
              "4712 22160    4.500000 \n",
              "4713 22162   55.400000 \n",
              "4714 22163    9.750000 "
            ]
          },
          "metadata": {}
        }
      ]
    },
    {
      "cell_type": "code",
      "source": [
        "#3.2\n",
        "sales_frame <- sales_train\n",
        "items_newnewcopy <- items\n",
        "\n",
        "sales_newframe <- merge(sales_frame, items_newnewcopy, by = 'item_id')\n",
        "\n",
        "max_months <- sales_newframe[(sales_newframe$item_id %in% max_frame$item_id) | (sales_newframe$item_id %in% min_frame$item_id), ]\n",
        "\n",
        "max_months <- max_months %>%\n",
        "                group_by(item_id, date_block_num) %>%\n",
        "                summarise(total_sales = sum(item_cnt_day))\n",
        "\n",
        "min_months <- max_months[order(max_months$item_id, max_months$total_sales, decreasing = FALSE), ]\n",
        "min_months <- distinct(min_months, item_id, .keep_all = TRUE)\n",
        "\n",
        "max_months <- distinct(max_months, item_id, .keep_all = TRUE)\n",
        "max_months"
      ],
      "metadata": {
        "colab": {
          "base_uri": "https://localhost:8080/",
          "height": 1000
        },
        "id": "dywxhyA1V6gF",
        "outputId": "28295634-ada1-45ff-ad61-755fced576dc"
      },
      "execution_count": null,
      "outputs": [
        {
          "output_type": "stream",
          "name": "stderr",
          "text": [
            "\u001b[1m\u001b[22m`summarise()` has grouped output by 'item_id'. You can override using the\n",
            "`.groups` argument.\n"
          ]
        },
        {
          "output_type": "display_data",
          "data": {
            "text/html": [
              "<table class=\"dataframe\">\n",
              "<caption>A grouped_df: 4714 × 3</caption>\n",
              "<thead>\n",
              "\t<tr><th scope=col>item_id</th><th scope=col>date_block_num</th><th scope=col>total_sales</th></tr>\n",
              "\t<tr><th scope=col>&lt;int&gt;</th><th scope=col>&lt;int&gt;</th><th scope=col>&lt;dbl&gt;</th></tr>\n",
              "</thead>\n",
              "<tbody>\n",
              "\t<tr><td> 0</td><td>20</td><td>  1</td></tr>\n",
              "\t<tr><td> 2</td><td>19</td><td>  1</td></tr>\n",
              "\t<tr><td> 3</td><td>18</td><td>  1</td></tr>\n",
              "\t<tr><td> 4</td><td>20</td><td>  1</td></tr>\n",
              "\t<tr><td> 5</td><td>23</td><td>  1</td></tr>\n",
              "\t<tr><td> 6</td><td>18</td><td>  1</td></tr>\n",
              "\t<tr><td> 7</td><td>23</td><td>  1</td></tr>\n",
              "\t<tr><td> 8</td><td>19</td><td>  1</td></tr>\n",
              "\t<tr><td> 9</td><td>19</td><td>  1</td></tr>\n",
              "\t<tr><td>10</td><td>24</td><td>  1</td></tr>\n",
              "\t<tr><td>11</td><td>22</td><td>  1</td></tr>\n",
              "\t<tr><td>13</td><td>20</td><td>  1</td></tr>\n",
              "\t<tr><td>14</td><td>23</td><td>  1</td></tr>\n",
              "\t<tr><td>15</td><td>22</td><td>  1</td></tr>\n",
              "\t<tr><td>18</td><td>19</td><td>  1</td></tr>\n",
              "\t<tr><td>19</td><td> 0</td><td>  1</td></tr>\n",
              "\t<tr><td>20</td><td>19</td><td>  1</td></tr>\n",
              "\t<tr><td>21</td><td>20</td><td>  1</td></tr>\n",
              "\t<tr><td>22</td><td>27</td><td>  1</td></tr>\n",
              "\t<tr><td>23</td><td>25</td><td>  1</td></tr>\n",
              "\t<tr><td>24</td><td>27</td><td>  1</td></tr>\n",
              "\t<tr><td>25</td><td>19</td><td>  1</td></tr>\n",
              "\t<tr><td>26</td><td>21</td><td>  1</td></tr>\n",
              "\t<tr><td>30</td><td> 1</td><td>861</td></tr>\n",
              "\t<tr><td>32</td><td> 0</td><td>299</td></tr>\n",
              "\t<tr><td>34</td><td> 0</td><td>  9</td></tr>\n",
              "\t<tr><td>35</td><td> 0</td><td> 78</td></tr>\n",
              "\t<tr><td>37</td><td> 2</td><td> 11</td></tr>\n",
              "\t<tr><td>43</td><td> 0</td><td>  2</td></tr>\n",
              "\t<tr><td>63</td><td> 0</td><td>  4</td></tr>\n",
              "\t<tr><td>⋮</td><td>⋮</td><td>⋮</td></tr>\n",
              "\t<tr><td>22075</td><td> 0</td><td>  7</td></tr>\n",
              "\t<tr><td>22108</td><td> 0</td><td>  2</td></tr>\n",
              "\t<tr><td>22114</td><td> 3</td><td> 20</td></tr>\n",
              "\t<tr><td>22116</td><td> 0</td><td>  1</td></tr>\n",
              "\t<tr><td>22119</td><td> 0</td><td>  3</td></tr>\n",
              "\t<tr><td>22120</td><td> 3</td><td>  5</td></tr>\n",
              "\t<tr><td>22121</td><td> 6</td><td>109</td></tr>\n",
              "\t<tr><td>22123</td><td> 9</td><td>  6</td></tr>\n",
              "\t<tr><td>22124</td><td> 0</td><td>  4</td></tr>\n",
              "\t<tr><td>22126</td><td> 9</td><td> 66</td></tr>\n",
              "\t<tr><td>22128</td><td> 0</td><td>  4</td></tr>\n",
              "\t<tr><td>22129</td><td> 0</td><td>  2</td></tr>\n",
              "\t<tr><td>22130</td><td> 0</td><td>160</td></tr>\n",
              "\t<tr><td>22132</td><td> 2</td><td>  4</td></tr>\n",
              "\t<tr><td>22133</td><td>13</td><td>  3</td></tr>\n",
              "\t<tr><td>22134</td><td> 0</td><td>224</td></tr>\n",
              "\t<tr><td>22136</td><td> 2</td><td> 10</td></tr>\n",
              "\t<tr><td>22141</td><td>13</td><td>  9</td></tr>\n",
              "\t<tr><td>22143</td><td>14</td><td>571</td></tr>\n",
              "\t<tr><td>22147</td><td> 0</td><td>  5</td></tr>\n",
              "\t<tr><td>22148</td><td> 5</td><td>  1</td></tr>\n",
              "\t<tr><td>22149</td><td> 0</td><td>  5</td></tr>\n",
              "\t<tr><td>22151</td><td> 0</td><td>276</td></tr>\n",
              "\t<tr><td>22152</td><td> 2</td><td>  9</td></tr>\n",
              "\t<tr><td>22156</td><td> 2</td><td>  2</td></tr>\n",
              "\t<tr><td>22157</td><td> 1</td><td>  1</td></tr>\n",
              "\t<tr><td>22159</td><td>28</td><td> 12</td></tr>\n",
              "\t<tr><td>22160</td><td> 0</td><td> 11</td></tr>\n",
              "\t<tr><td>22162</td><td>18</td><td>  1</td></tr>\n",
              "\t<tr><td>22163</td><td>31</td><td> 29</td></tr>\n",
              "</tbody>\n",
              "</table>\n"
            ],
            "text/markdown": "\nA grouped_df: 4714 × 3\n\n| item_id &lt;int&gt; | date_block_num &lt;int&gt; | total_sales &lt;dbl&gt; |\n|---|---|---|\n|  0 | 20 |   1 |\n|  2 | 19 |   1 |\n|  3 | 18 |   1 |\n|  4 | 20 |   1 |\n|  5 | 23 |   1 |\n|  6 | 18 |   1 |\n|  7 | 23 |   1 |\n|  8 | 19 |   1 |\n|  9 | 19 |   1 |\n| 10 | 24 |   1 |\n| 11 | 22 |   1 |\n| 13 | 20 |   1 |\n| 14 | 23 |   1 |\n| 15 | 22 |   1 |\n| 18 | 19 |   1 |\n| 19 |  0 |   1 |\n| 20 | 19 |   1 |\n| 21 | 20 |   1 |\n| 22 | 27 |   1 |\n| 23 | 25 |   1 |\n| 24 | 27 |   1 |\n| 25 | 19 |   1 |\n| 26 | 21 |   1 |\n| 30 |  1 | 861 |\n| 32 |  0 | 299 |\n| 34 |  0 |   9 |\n| 35 |  0 |  78 |\n| 37 |  2 |  11 |\n| 43 |  0 |   2 |\n| 63 |  0 |   4 |\n| ⋮ | ⋮ | ⋮ |\n| 22075 |  0 |   7 |\n| 22108 |  0 |   2 |\n| 22114 |  3 |  20 |\n| 22116 |  0 |   1 |\n| 22119 |  0 |   3 |\n| 22120 |  3 |   5 |\n| 22121 |  6 | 109 |\n| 22123 |  9 |   6 |\n| 22124 |  0 |   4 |\n| 22126 |  9 |  66 |\n| 22128 |  0 |   4 |\n| 22129 |  0 |   2 |\n| 22130 |  0 | 160 |\n| 22132 |  2 |   4 |\n| 22133 | 13 |   3 |\n| 22134 |  0 | 224 |\n| 22136 |  2 |  10 |\n| 22141 | 13 |   9 |\n| 22143 | 14 | 571 |\n| 22147 |  0 |   5 |\n| 22148 |  5 |   1 |\n| 22149 |  0 |   5 |\n| 22151 |  0 | 276 |\n| 22152 |  2 |   9 |\n| 22156 |  2 |   2 |\n| 22157 |  1 |   1 |\n| 22159 | 28 |  12 |\n| 22160 |  0 |  11 |\n| 22162 | 18 |   1 |\n| 22163 | 31 |  29 |\n\n",
            "text/latex": "A grouped\\_df: 4714 × 3\n\\begin{tabular}{lll}\n item\\_id & date\\_block\\_num & total\\_sales\\\\\n <int> & <int> & <dbl>\\\\\n\\hline\n\t  0 & 20 &   1\\\\\n\t  2 & 19 &   1\\\\\n\t  3 & 18 &   1\\\\\n\t  4 & 20 &   1\\\\\n\t  5 & 23 &   1\\\\\n\t  6 & 18 &   1\\\\\n\t  7 & 23 &   1\\\\\n\t  8 & 19 &   1\\\\\n\t  9 & 19 &   1\\\\\n\t 10 & 24 &   1\\\\\n\t 11 & 22 &   1\\\\\n\t 13 & 20 &   1\\\\\n\t 14 & 23 &   1\\\\\n\t 15 & 22 &   1\\\\\n\t 18 & 19 &   1\\\\\n\t 19 &  0 &   1\\\\\n\t 20 & 19 &   1\\\\\n\t 21 & 20 &   1\\\\\n\t 22 & 27 &   1\\\\\n\t 23 & 25 &   1\\\\\n\t 24 & 27 &   1\\\\\n\t 25 & 19 &   1\\\\\n\t 26 & 21 &   1\\\\\n\t 30 &  1 & 861\\\\\n\t 32 &  0 & 299\\\\\n\t 34 &  0 &   9\\\\\n\t 35 &  0 &  78\\\\\n\t 37 &  2 &  11\\\\\n\t 43 &  0 &   2\\\\\n\t 63 &  0 &   4\\\\\n\t ⋮ & ⋮ & ⋮\\\\\n\t 22075 &  0 &   7\\\\\n\t 22108 &  0 &   2\\\\\n\t 22114 &  3 &  20\\\\\n\t 22116 &  0 &   1\\\\\n\t 22119 &  0 &   3\\\\\n\t 22120 &  3 &   5\\\\\n\t 22121 &  6 & 109\\\\\n\t 22123 &  9 &   6\\\\\n\t 22124 &  0 &   4\\\\\n\t 22126 &  9 &  66\\\\\n\t 22128 &  0 &   4\\\\\n\t 22129 &  0 &   2\\\\\n\t 22130 &  0 & 160\\\\\n\t 22132 &  2 &   4\\\\\n\t 22133 & 13 &   3\\\\\n\t 22134 &  0 & 224\\\\\n\t 22136 &  2 &  10\\\\\n\t 22141 & 13 &   9\\\\\n\t 22143 & 14 & 571\\\\\n\t 22147 &  0 &   5\\\\\n\t 22148 &  5 &   1\\\\\n\t 22149 &  0 &   5\\\\\n\t 22151 &  0 & 276\\\\\n\t 22152 &  2 &   9\\\\\n\t 22156 &  2 &   2\\\\\n\t 22157 &  1 &   1\\\\\n\t 22159 & 28 &  12\\\\\n\t 22160 &  0 &  11\\\\\n\t 22162 & 18 &   1\\\\\n\t 22163 & 31 &  29\\\\\n\\end{tabular}\n",
            "text/plain": [
              "     item_id date_block_num total_sales\n",
              "1     0      20               1        \n",
              "2     2      19               1        \n",
              "3     3      18               1        \n",
              "4     4      20               1        \n",
              "5     5      23               1        \n",
              "6     6      18               1        \n",
              "7     7      23               1        \n",
              "8     8      19               1        \n",
              "9     9      19               1        \n",
              "10   10      24               1        \n",
              "11   11      22               1        \n",
              "12   13      20               1        \n",
              "13   14      23               1        \n",
              "14   15      22               1        \n",
              "15   18      19               1        \n",
              "16   19       0               1        \n",
              "17   20      19               1        \n",
              "18   21      20               1        \n",
              "19   22      27               1        \n",
              "20   23      25               1        \n",
              "21   24      27               1        \n",
              "22   25      19               1        \n",
              "23   26      21               1        \n",
              "24   30       1             861        \n",
              "25   32       0             299        \n",
              "26   34       0               9        \n",
              "27   35       0              78        \n",
              "28   37       2              11        \n",
              "29   43       0               2        \n",
              "30   63       0               4        \n",
              "⋮    ⋮       ⋮              ⋮          \n",
              "4685 22075    0               7        \n",
              "4686 22108    0               2        \n",
              "4687 22114    3              20        \n",
              "4688 22116    0               1        \n",
              "4689 22119    0               3        \n",
              "4690 22120    3               5        \n",
              "4691 22121    6             109        \n",
              "4692 22123    9               6        \n",
              "4693 22124    0               4        \n",
              "4694 22126    9              66        \n",
              "4695 22128    0               4        \n",
              "4696 22129    0               2        \n",
              "4697 22130    0             160        \n",
              "4698 22132    2               4        \n",
              "4699 22133   13               3        \n",
              "4700 22134    0             224        \n",
              "4701 22136    2              10        \n",
              "4702 22141   13               9        \n",
              "4703 22143   14             571        \n",
              "4704 22147    0               5        \n",
              "4705 22148    5               1        \n",
              "4706 22149    0               5        \n",
              "4707 22151    0             276        \n",
              "4708 22152    2               9        \n",
              "4709 22156    2               2        \n",
              "4710 22157    1               1        \n",
              "4711 22159   28              12        \n",
              "4712 22160    0              11        \n",
              "4713 22162   18               1        \n",
              "4714 22163   31              29        "
            ]
          },
          "metadata": {}
        }
      ]
    },
    {
      "cell_type": "code",
      "source": [
        "min_months"
      ],
      "metadata": {
        "colab": {
          "base_uri": "https://localhost:8080/",
          "height": 1000
        },
        "id": "iywqmA1hdC3U",
        "outputId": "d5a4d54a-6c1e-4cc4-d4d1-6e4eb4f4e1b7"
      },
      "execution_count": null,
      "outputs": [
        {
          "output_type": "display_data",
          "data": {
            "text/html": [
              "<table class=\"dataframe\">\n",
              "<caption>A grouped_df: 4714 × 3</caption>\n",
              "<thead>\n",
              "\t<tr><th scope=col>item_id</th><th scope=col>date_block_num</th><th scope=col>total_sales</th></tr>\n",
              "\t<tr><th scope=col>&lt;int&gt;</th><th scope=col>&lt;int&gt;</th><th scope=col>&lt;dbl&gt;</th></tr>\n",
              "</thead>\n",
              "<tbody>\n",
              "\t<tr><td> 0</td><td>20</td><td> 1</td></tr>\n",
              "\t<tr><td> 2</td><td>19</td><td> 1</td></tr>\n",
              "\t<tr><td> 3</td><td>18</td><td> 1</td></tr>\n",
              "\t<tr><td> 4</td><td>20</td><td> 1</td></tr>\n",
              "\t<tr><td> 5</td><td>23</td><td> 1</td></tr>\n",
              "\t<tr><td> 6</td><td>18</td><td> 1</td></tr>\n",
              "\t<tr><td> 7</td><td>23</td><td> 1</td></tr>\n",
              "\t<tr><td> 8</td><td>19</td><td> 1</td></tr>\n",
              "\t<tr><td> 9</td><td>19</td><td> 1</td></tr>\n",
              "\t<tr><td>10</td><td>24</td><td> 1</td></tr>\n",
              "\t<tr><td>11</td><td>22</td><td> 1</td></tr>\n",
              "\t<tr><td>13</td><td>20</td><td> 1</td></tr>\n",
              "\t<tr><td>14</td><td>23</td><td> 1</td></tr>\n",
              "\t<tr><td>15</td><td>22</td><td> 1</td></tr>\n",
              "\t<tr><td>18</td><td>19</td><td> 1</td></tr>\n",
              "\t<tr><td>19</td><td> 0</td><td> 1</td></tr>\n",
              "\t<tr><td>20</td><td>19</td><td> 1</td></tr>\n",
              "\t<tr><td>21</td><td>20</td><td> 1</td></tr>\n",
              "\t<tr><td>22</td><td>27</td><td> 1</td></tr>\n",
              "\t<tr><td>23</td><td>25</td><td> 1</td></tr>\n",
              "\t<tr><td>24</td><td>27</td><td> 1</td></tr>\n",
              "\t<tr><td>25</td><td>19</td><td> 1</td></tr>\n",
              "\t<tr><td>26</td><td>21</td><td> 1</td></tr>\n",
              "\t<tr><td>30</td><td>33</td><td> 1</td></tr>\n",
              "\t<tr><td>32</td><td>18</td><td>12</td></tr>\n",
              "\t<tr><td>34</td><td>10</td><td> 1</td></tr>\n",
              "\t<tr><td>35</td><td>14</td><td> 1</td></tr>\n",
              "\t<tr><td>37</td><td>13</td><td> 1</td></tr>\n",
              "\t<tr><td>43</td><td> 3</td><td> 1</td></tr>\n",
              "\t<tr><td>63</td><td> 5</td><td> 1</td></tr>\n",
              "\t<tr><td>⋮</td><td>⋮</td><td>⋮</td></tr>\n",
              "\t<tr><td>22075</td><td>11</td><td> 1</td></tr>\n",
              "\t<tr><td>22108</td><td> 5</td><td> 1</td></tr>\n",
              "\t<tr><td>22114</td><td> 7</td><td> 2</td></tr>\n",
              "\t<tr><td>22116</td><td> 0</td><td> 1</td></tr>\n",
              "\t<tr><td>22119</td><td>11</td><td> 1</td></tr>\n",
              "\t<tr><td>22120</td><td> 4</td><td> 1</td></tr>\n",
              "\t<tr><td>22121</td><td>10</td><td> 6</td></tr>\n",
              "\t<tr><td>22123</td><td>14</td><td> 1</td></tr>\n",
              "\t<tr><td>22124</td><td> 1</td><td> 1</td></tr>\n",
              "\t<tr><td>22126</td><td>19</td><td> 1</td></tr>\n",
              "\t<tr><td>22128</td><td> 3</td><td> 1</td></tr>\n",
              "\t<tr><td>22129</td><td> 1</td><td> 1</td></tr>\n",
              "\t<tr><td>22130</td><td> 3</td><td>-1</td></tr>\n",
              "\t<tr><td>22132</td><td> 9</td><td> 1</td></tr>\n",
              "\t<tr><td>22133</td><td>21</td><td> 1</td></tr>\n",
              "\t<tr><td>22134</td><td>14</td><td> 1</td></tr>\n",
              "\t<tr><td>22136</td><td>13</td><td> 1</td></tr>\n",
              "\t<tr><td>22141</td><td>16</td><td> 2</td></tr>\n",
              "\t<tr><td>22143</td><td>22</td><td> 8</td></tr>\n",
              "\t<tr><td>22147</td><td> 6</td><td> 1</td></tr>\n",
              "\t<tr><td>22148</td><td> 5</td><td> 1</td></tr>\n",
              "\t<tr><td>22149</td><td> 2</td><td> 1</td></tr>\n",
              "\t<tr><td>22151</td><td> 5</td><td> 1</td></tr>\n",
              "\t<tr><td>22152</td><td> 9</td><td> 1</td></tr>\n",
              "\t<tr><td>22156</td><td> 4</td><td> 1</td></tr>\n",
              "\t<tr><td>22157</td><td> 1</td><td> 1</td></tr>\n",
              "\t<tr><td>22159</td><td>29</td><td> 3</td></tr>\n",
              "\t<tr><td>22160</td><td>17</td><td> 1</td></tr>\n",
              "\t<tr><td>22162</td><td>18</td><td> 1</td></tr>\n",
              "\t<tr><td>22163</td><td>32</td><td>20</td></tr>\n",
              "</tbody>\n",
              "</table>\n"
            ],
            "text/markdown": "\nA grouped_df: 4714 × 3\n\n| item_id &lt;int&gt; | date_block_num &lt;int&gt; | total_sales &lt;dbl&gt; |\n|---|---|---|\n|  0 | 20 |  1 |\n|  2 | 19 |  1 |\n|  3 | 18 |  1 |\n|  4 | 20 |  1 |\n|  5 | 23 |  1 |\n|  6 | 18 |  1 |\n|  7 | 23 |  1 |\n|  8 | 19 |  1 |\n|  9 | 19 |  1 |\n| 10 | 24 |  1 |\n| 11 | 22 |  1 |\n| 13 | 20 |  1 |\n| 14 | 23 |  1 |\n| 15 | 22 |  1 |\n| 18 | 19 |  1 |\n| 19 |  0 |  1 |\n| 20 | 19 |  1 |\n| 21 | 20 |  1 |\n| 22 | 27 |  1 |\n| 23 | 25 |  1 |\n| 24 | 27 |  1 |\n| 25 | 19 |  1 |\n| 26 | 21 |  1 |\n| 30 | 33 |  1 |\n| 32 | 18 | 12 |\n| 34 | 10 |  1 |\n| 35 | 14 |  1 |\n| 37 | 13 |  1 |\n| 43 |  3 |  1 |\n| 63 |  5 |  1 |\n| ⋮ | ⋮ | ⋮ |\n| 22075 | 11 |  1 |\n| 22108 |  5 |  1 |\n| 22114 |  7 |  2 |\n| 22116 |  0 |  1 |\n| 22119 | 11 |  1 |\n| 22120 |  4 |  1 |\n| 22121 | 10 |  6 |\n| 22123 | 14 |  1 |\n| 22124 |  1 |  1 |\n| 22126 | 19 |  1 |\n| 22128 |  3 |  1 |\n| 22129 |  1 |  1 |\n| 22130 |  3 | -1 |\n| 22132 |  9 |  1 |\n| 22133 | 21 |  1 |\n| 22134 | 14 |  1 |\n| 22136 | 13 |  1 |\n| 22141 | 16 |  2 |\n| 22143 | 22 |  8 |\n| 22147 |  6 |  1 |\n| 22148 |  5 |  1 |\n| 22149 |  2 |  1 |\n| 22151 |  5 |  1 |\n| 22152 |  9 |  1 |\n| 22156 |  4 |  1 |\n| 22157 |  1 |  1 |\n| 22159 | 29 |  3 |\n| 22160 | 17 |  1 |\n| 22162 | 18 |  1 |\n| 22163 | 32 | 20 |\n\n",
            "text/latex": "A grouped\\_df: 4714 × 3\n\\begin{tabular}{lll}\n item\\_id & date\\_block\\_num & total\\_sales\\\\\n <int> & <int> & <dbl>\\\\\n\\hline\n\t  0 & 20 &  1\\\\\n\t  2 & 19 &  1\\\\\n\t  3 & 18 &  1\\\\\n\t  4 & 20 &  1\\\\\n\t  5 & 23 &  1\\\\\n\t  6 & 18 &  1\\\\\n\t  7 & 23 &  1\\\\\n\t  8 & 19 &  1\\\\\n\t  9 & 19 &  1\\\\\n\t 10 & 24 &  1\\\\\n\t 11 & 22 &  1\\\\\n\t 13 & 20 &  1\\\\\n\t 14 & 23 &  1\\\\\n\t 15 & 22 &  1\\\\\n\t 18 & 19 &  1\\\\\n\t 19 &  0 &  1\\\\\n\t 20 & 19 &  1\\\\\n\t 21 & 20 &  1\\\\\n\t 22 & 27 &  1\\\\\n\t 23 & 25 &  1\\\\\n\t 24 & 27 &  1\\\\\n\t 25 & 19 &  1\\\\\n\t 26 & 21 &  1\\\\\n\t 30 & 33 &  1\\\\\n\t 32 & 18 & 12\\\\\n\t 34 & 10 &  1\\\\\n\t 35 & 14 &  1\\\\\n\t 37 & 13 &  1\\\\\n\t 43 &  3 &  1\\\\\n\t 63 &  5 &  1\\\\\n\t ⋮ & ⋮ & ⋮\\\\\n\t 22075 & 11 &  1\\\\\n\t 22108 &  5 &  1\\\\\n\t 22114 &  7 &  2\\\\\n\t 22116 &  0 &  1\\\\\n\t 22119 & 11 &  1\\\\\n\t 22120 &  4 &  1\\\\\n\t 22121 & 10 &  6\\\\\n\t 22123 & 14 &  1\\\\\n\t 22124 &  1 &  1\\\\\n\t 22126 & 19 &  1\\\\\n\t 22128 &  3 &  1\\\\\n\t 22129 &  1 &  1\\\\\n\t 22130 &  3 & -1\\\\\n\t 22132 &  9 &  1\\\\\n\t 22133 & 21 &  1\\\\\n\t 22134 & 14 &  1\\\\\n\t 22136 & 13 &  1\\\\\n\t 22141 & 16 &  2\\\\\n\t 22143 & 22 &  8\\\\\n\t 22147 &  6 &  1\\\\\n\t 22148 &  5 &  1\\\\\n\t 22149 &  2 &  1\\\\\n\t 22151 &  5 &  1\\\\\n\t 22152 &  9 &  1\\\\\n\t 22156 &  4 &  1\\\\\n\t 22157 &  1 &  1\\\\\n\t 22159 & 29 &  3\\\\\n\t 22160 & 17 &  1\\\\\n\t 22162 & 18 &  1\\\\\n\t 22163 & 32 & 20\\\\\n\\end{tabular}\n",
            "text/plain": [
              "     item_id date_block_num total_sales\n",
              "1     0      20              1         \n",
              "2     2      19              1         \n",
              "3     3      18              1         \n",
              "4     4      20              1         \n",
              "5     5      23              1         \n",
              "6     6      18              1         \n",
              "7     7      23              1         \n",
              "8     8      19              1         \n",
              "9     9      19              1         \n",
              "10   10      24              1         \n",
              "11   11      22              1         \n",
              "12   13      20              1         \n",
              "13   14      23              1         \n",
              "14   15      22              1         \n",
              "15   18      19              1         \n",
              "16   19       0              1         \n",
              "17   20      19              1         \n",
              "18   21      20              1         \n",
              "19   22      27              1         \n",
              "20   23      25              1         \n",
              "21   24      27              1         \n",
              "22   25      19              1         \n",
              "23   26      21              1         \n",
              "24   30      33              1         \n",
              "25   32      18             12         \n",
              "26   34      10              1         \n",
              "27   35      14              1         \n",
              "28   37      13              1         \n",
              "29   43       3              1         \n",
              "30   63       5              1         \n",
              "⋮    ⋮       ⋮              ⋮          \n",
              "4685 22075   11              1         \n",
              "4686 22108    5              1         \n",
              "4687 22114    7              2         \n",
              "4688 22116    0              1         \n",
              "4689 22119   11              1         \n",
              "4690 22120    4              1         \n",
              "4691 22121   10              6         \n",
              "4692 22123   14              1         \n",
              "4693 22124    1              1         \n",
              "4694 22126   19              1         \n",
              "4695 22128    3              1         \n",
              "4696 22129    1              1         \n",
              "4697 22130    3             -1         \n",
              "4698 22132    9              1         \n",
              "4699 22133   21              1         \n",
              "4700 22134   14              1         \n",
              "4701 22136   13              1         \n",
              "4702 22141   16              2         \n",
              "4703 22143   22              8         \n",
              "4704 22147    6              1         \n",
              "4705 22148    5              1         \n",
              "4706 22149    2              1         \n",
              "4707 22151    5              1         \n",
              "4708 22152    9              1         \n",
              "4709 22156    4              1         \n",
              "4710 22157    1              1         \n",
              "4711 22159   29              3         \n",
              "4712 22160   17              1         \n",
              "4713 22162   18              1         \n",
              "4714 22163   32             20         "
            ]
          },
          "metadata": {}
        }
      ]
    },
    {
      "cell_type": "markdown",
      "source": [
        "# Задание 4\n",
        "\n",
        "1.   Для категорий из задания 2 найдите среднюю и медианную цену по категории в пределах каждого месяца.\n",
        "2.   В каждом году найдите месяцы, в которых средняя цена меньше, чем в предыдущем и следующем месяце.\n",
        "\n"
      ],
      "metadata": {
        "id": "K1vlluTvB8BV"
      }
    },
    {
      "cell_type": "code",
      "source": [
        "#4.1 \n",
        "jeneral_category <- max_frame %>%\n",
        "                      full_join(min_frame)\n",
        "sales_newframe <- sales_newframe[sales_newframe$item_id %in% jeneral_category$item_id, ]\n",
        "\n",
        "sales_mean <- sales_newframe %>%\n",
        "                group_by(date_block_num, category_id) %>%\n",
        "                summarise(mean_price = mean(item_price))\n",
        "\n",
        "sales_mean"
      ],
      "metadata": {
        "id": "db36wJqhCClE",
        "colab": {
          "base_uri": "https://localhost:8080/",
          "height": 1000
        },
        "outputId": "2cfcd10a-c2bd-428c-fd0d-1d9323998187"
      },
      "execution_count": null,
      "outputs": [
        {
          "output_type": "stream",
          "name": "stderr",
          "text": [
            "\u001b[1m\u001b[22mJoining, by = c(\"item_id\", \"mean_sales\")\n",
            "\u001b[1m\u001b[22m`summarise()` has grouped output by 'date_block_num'. You can override using\n",
            "the `.groups` argument.\n"
          ]
        },
        {
          "output_type": "display_data",
          "data": {
            "text/html": [
              "<table class=\"dataframe\">\n",
              "<caption>A grouped_df: 34 × 3</caption>\n",
              "<thead>\n",
              "\t<tr><th scope=col>date_block_num</th><th scope=col>category_id</th><th scope=col>mean_price</th></tr>\n",
              "\t<tr><th scope=col>&lt;int&gt;</th><th scope=col>&lt;int&gt;</th><th scope=col>&lt;dbl&gt;</th></tr>\n",
              "</thead>\n",
              "<tbody>\n",
              "\t<tr><td> 0</td><td>40</td><td>244.8589</td></tr>\n",
              "\t<tr><td> 1</td><td>40</td><td>252.3997</td></tr>\n",
              "\t<tr><td> 2</td><td>40</td><td>260.8980</td></tr>\n",
              "\t<tr><td> 3</td><td>40</td><td>254.9732</td></tr>\n",
              "\t<tr><td> 4</td><td>40</td><td>247.7220</td></tr>\n",
              "\t<tr><td> 5</td><td>40</td><td>245.9637</td></tr>\n",
              "\t<tr><td> 6</td><td>40</td><td>236.8638</td></tr>\n",
              "\t<tr><td> 7</td><td>40</td><td>234.4875</td></tr>\n",
              "\t<tr><td> 8</td><td>40</td><td>241.8383</td></tr>\n",
              "\t<tr><td> 9</td><td>40</td><td>247.5742</td></tr>\n",
              "\t<tr><td>10</td><td>40</td><td>253.2233</td></tr>\n",
              "\t<tr><td>11</td><td>40</td><td>257.8082</td></tr>\n",
              "\t<tr><td>12</td><td>40</td><td>252.9211</td></tr>\n",
              "\t<tr><td>13</td><td>40</td><td>261.2565</td></tr>\n",
              "\t<tr><td>14</td><td>40</td><td>262.4795</td></tr>\n",
              "\t<tr><td>15</td><td>40</td><td>268.4429</td></tr>\n",
              "\t<tr><td>16</td><td>40</td><td>254.3645</td></tr>\n",
              "\t<tr><td>17</td><td>40</td><td>255.1590</td></tr>\n",
              "\t<tr><td>18</td><td>40</td><td>257.4465</td></tr>\n",
              "\t<tr><td>19</td><td>40</td><td>264.1878</td></tr>\n",
              "\t<tr><td>20</td><td>40</td><td>265.3975</td></tr>\n",
              "\t<tr><td>21</td><td>40</td><td>263.7609</td></tr>\n",
              "\t<tr><td>22</td><td>40</td><td>264.0252</td></tr>\n",
              "\t<tr><td>23</td><td>40</td><td>261.8757</td></tr>\n",
              "\t<tr><td>24</td><td>40</td><td>263.1706</td></tr>\n",
              "\t<tr><td>25</td><td>40</td><td>256.3622</td></tr>\n",
              "\t<tr><td>26</td><td>40</td><td>258.2083</td></tr>\n",
              "\t<tr><td>27</td><td>40</td><td>281.6243</td></tr>\n",
              "\t<tr><td>28</td><td>40</td><td>286.4941</td></tr>\n",
              "\t<tr><td>29</td><td>40</td><td>279.1115</td></tr>\n",
              "\t<tr><td>30</td><td>40</td><td>273.2369</td></tr>\n",
              "\t<tr><td>31</td><td>40</td><td>273.1803</td></tr>\n",
              "\t<tr><td>32</td><td>40</td><td>279.2725</td></tr>\n",
              "\t<tr><td>33</td><td>40</td><td>280.4718</td></tr>\n",
              "</tbody>\n",
              "</table>\n"
            ],
            "text/markdown": "\nA grouped_df: 34 × 3\n\n| date_block_num &lt;int&gt; | category_id &lt;int&gt; | mean_price &lt;dbl&gt; |\n|---|---|---|\n|  0 | 40 | 244.8589 |\n|  1 | 40 | 252.3997 |\n|  2 | 40 | 260.8980 |\n|  3 | 40 | 254.9732 |\n|  4 | 40 | 247.7220 |\n|  5 | 40 | 245.9637 |\n|  6 | 40 | 236.8638 |\n|  7 | 40 | 234.4875 |\n|  8 | 40 | 241.8383 |\n|  9 | 40 | 247.5742 |\n| 10 | 40 | 253.2233 |\n| 11 | 40 | 257.8082 |\n| 12 | 40 | 252.9211 |\n| 13 | 40 | 261.2565 |\n| 14 | 40 | 262.4795 |\n| 15 | 40 | 268.4429 |\n| 16 | 40 | 254.3645 |\n| 17 | 40 | 255.1590 |\n| 18 | 40 | 257.4465 |\n| 19 | 40 | 264.1878 |\n| 20 | 40 | 265.3975 |\n| 21 | 40 | 263.7609 |\n| 22 | 40 | 264.0252 |\n| 23 | 40 | 261.8757 |\n| 24 | 40 | 263.1706 |\n| 25 | 40 | 256.3622 |\n| 26 | 40 | 258.2083 |\n| 27 | 40 | 281.6243 |\n| 28 | 40 | 286.4941 |\n| 29 | 40 | 279.1115 |\n| 30 | 40 | 273.2369 |\n| 31 | 40 | 273.1803 |\n| 32 | 40 | 279.2725 |\n| 33 | 40 | 280.4718 |\n\n",
            "text/latex": "A grouped\\_df: 34 × 3\n\\begin{tabular}{lll}\n date\\_block\\_num & category\\_id & mean\\_price\\\\\n <int> & <int> & <dbl>\\\\\n\\hline\n\t  0 & 40 & 244.8589\\\\\n\t  1 & 40 & 252.3997\\\\\n\t  2 & 40 & 260.8980\\\\\n\t  3 & 40 & 254.9732\\\\\n\t  4 & 40 & 247.7220\\\\\n\t  5 & 40 & 245.9637\\\\\n\t  6 & 40 & 236.8638\\\\\n\t  7 & 40 & 234.4875\\\\\n\t  8 & 40 & 241.8383\\\\\n\t  9 & 40 & 247.5742\\\\\n\t 10 & 40 & 253.2233\\\\\n\t 11 & 40 & 257.8082\\\\\n\t 12 & 40 & 252.9211\\\\\n\t 13 & 40 & 261.2565\\\\\n\t 14 & 40 & 262.4795\\\\\n\t 15 & 40 & 268.4429\\\\\n\t 16 & 40 & 254.3645\\\\\n\t 17 & 40 & 255.1590\\\\\n\t 18 & 40 & 257.4465\\\\\n\t 19 & 40 & 264.1878\\\\\n\t 20 & 40 & 265.3975\\\\\n\t 21 & 40 & 263.7609\\\\\n\t 22 & 40 & 264.0252\\\\\n\t 23 & 40 & 261.8757\\\\\n\t 24 & 40 & 263.1706\\\\\n\t 25 & 40 & 256.3622\\\\\n\t 26 & 40 & 258.2083\\\\\n\t 27 & 40 & 281.6243\\\\\n\t 28 & 40 & 286.4941\\\\\n\t 29 & 40 & 279.1115\\\\\n\t 30 & 40 & 273.2369\\\\\n\t 31 & 40 & 273.1803\\\\\n\t 32 & 40 & 279.2725\\\\\n\t 33 & 40 & 280.4718\\\\\n\\end{tabular}\n",
            "text/plain": [
              "   date_block_num category_id mean_price\n",
              "1   0             40          244.8589  \n",
              "2   1             40          252.3997  \n",
              "3   2             40          260.8980  \n",
              "4   3             40          254.9732  \n",
              "5   4             40          247.7220  \n",
              "6   5             40          245.9637  \n",
              "7   6             40          236.8638  \n",
              "8   7             40          234.4875  \n",
              "9   8             40          241.8383  \n",
              "10  9             40          247.5742  \n",
              "11 10             40          253.2233  \n",
              "12 11             40          257.8082  \n",
              "13 12             40          252.9211  \n",
              "14 13             40          261.2565  \n",
              "15 14             40          262.4795  \n",
              "16 15             40          268.4429  \n",
              "17 16             40          254.3645  \n",
              "18 17             40          255.1590  \n",
              "19 18             40          257.4465  \n",
              "20 19             40          264.1878  \n",
              "21 20             40          265.3975  \n",
              "22 21             40          263.7609  \n",
              "23 22             40          264.0252  \n",
              "24 23             40          261.8757  \n",
              "25 24             40          263.1706  \n",
              "26 25             40          256.3622  \n",
              "27 26             40          258.2083  \n",
              "28 27             40          281.6243  \n",
              "29 28             40          286.4941  \n",
              "30 29             40          279.1115  \n",
              "31 30             40          273.2369  \n",
              "32 31             40          273.1803  \n",
              "33 32             40          279.2725  \n",
              "34 33             40          280.4718  "
            ]
          },
          "metadata": {}
        }
      ]
    },
    {
      "cell_type": "code",
      "source": [
        "sales_median <- sales_newframe %>%\n",
        "                group_by(date_block_num, category_id) %>%\n",
        "                summarise(median_price = median(item_price))\n",
        "\n",
        "sales_median"
      ],
      "metadata": {
        "colab": {
          "base_uri": "https://localhost:8080/",
          "height": 1000
        },
        "id": "l543S6pU9Cqe",
        "outputId": "229a58ed-f5aa-4078-d60b-0b02725d0ebb"
      },
      "execution_count": null,
      "outputs": [
        {
          "output_type": "stream",
          "name": "stderr",
          "text": [
            "\u001b[1m\u001b[22m`summarise()` has grouped output by 'date_block_num'. You can override using\n",
            "the `.groups` argument.\n"
          ]
        },
        {
          "output_type": "display_data",
          "data": {
            "text/html": [
              "<table class=\"dataframe\">\n",
              "<caption>A grouped_df: 34 × 3</caption>\n",
              "<thead>\n",
              "\t<tr><th scope=col>date_block_num</th><th scope=col>category_id</th><th scope=col>median_price</th></tr>\n",
              "\t<tr><th scope=col>&lt;int&gt;</th><th scope=col>&lt;int&gt;</th><th scope=col>&lt;dbl&gt;</th></tr>\n",
              "</thead>\n",
              "<tbody>\n",
              "\t<tr><td> 0</td><td>40</td><td>199</td></tr>\n",
              "\t<tr><td> 1</td><td>40</td><td>203</td></tr>\n",
              "\t<tr><td> 2</td><td>40</td><td>231</td></tr>\n",
              "\t<tr><td> 3</td><td>40</td><td>199</td></tr>\n",
              "\t<tr><td> 4</td><td>40</td><td>199</td></tr>\n",
              "\t<tr><td> 5</td><td>40</td><td>199</td></tr>\n",
              "\t<tr><td> 6</td><td>40</td><td>149</td></tr>\n",
              "\t<tr><td> 7</td><td>40</td><td>149</td></tr>\n",
              "\t<tr><td> 8</td><td>40</td><td>198</td></tr>\n",
              "\t<tr><td> 9</td><td>40</td><td>199</td></tr>\n",
              "\t<tr><td>10</td><td>40</td><td>199</td></tr>\n",
              "\t<tr><td>11</td><td>40</td><td>237</td></tr>\n",
              "\t<tr><td>12</td><td>40</td><td>199</td></tr>\n",
              "\t<tr><td>13</td><td>40</td><td>248</td></tr>\n",
              "\t<tr><td>14</td><td>40</td><td>251</td></tr>\n",
              "\t<tr><td>15</td><td>40</td><td>249</td></tr>\n",
              "\t<tr><td>16</td><td>40</td><td>199</td></tr>\n",
              "\t<tr><td>17</td><td>40</td><td>199</td></tr>\n",
              "\t<tr><td>18</td><td>40</td><td>199</td></tr>\n",
              "\t<tr><td>19</td><td>40</td><td>199</td></tr>\n",
              "\t<tr><td>20</td><td>40</td><td>240</td></tr>\n",
              "\t<tr><td>21</td><td>40</td><td>199</td></tr>\n",
              "\t<tr><td>22</td><td>40</td><td>199</td></tr>\n",
              "\t<tr><td>23</td><td>40</td><td>199</td></tr>\n",
              "\t<tr><td>24</td><td>40</td><td>199</td></tr>\n",
              "\t<tr><td>25</td><td>40</td><td>199</td></tr>\n",
              "\t<tr><td>26</td><td>40</td><td>169</td></tr>\n",
              "\t<tr><td>27</td><td>40</td><td>299</td></tr>\n",
              "\t<tr><td>28</td><td>40</td><td>299</td></tr>\n",
              "\t<tr><td>29</td><td>40</td><td>249</td></tr>\n",
              "\t<tr><td>30</td><td>40</td><td>199</td></tr>\n",
              "\t<tr><td>31</td><td>40</td><td>249</td></tr>\n",
              "\t<tr><td>32</td><td>40</td><td>249</td></tr>\n",
              "\t<tr><td>33</td><td>40</td><td>249</td></tr>\n",
              "</tbody>\n",
              "</table>\n"
            ],
            "text/markdown": "\nA grouped_df: 34 × 3\n\n| date_block_num &lt;int&gt; | category_id &lt;int&gt; | median_price &lt;dbl&gt; |\n|---|---|---|\n|  0 | 40 | 199 |\n|  1 | 40 | 203 |\n|  2 | 40 | 231 |\n|  3 | 40 | 199 |\n|  4 | 40 | 199 |\n|  5 | 40 | 199 |\n|  6 | 40 | 149 |\n|  7 | 40 | 149 |\n|  8 | 40 | 198 |\n|  9 | 40 | 199 |\n| 10 | 40 | 199 |\n| 11 | 40 | 237 |\n| 12 | 40 | 199 |\n| 13 | 40 | 248 |\n| 14 | 40 | 251 |\n| 15 | 40 | 249 |\n| 16 | 40 | 199 |\n| 17 | 40 | 199 |\n| 18 | 40 | 199 |\n| 19 | 40 | 199 |\n| 20 | 40 | 240 |\n| 21 | 40 | 199 |\n| 22 | 40 | 199 |\n| 23 | 40 | 199 |\n| 24 | 40 | 199 |\n| 25 | 40 | 199 |\n| 26 | 40 | 169 |\n| 27 | 40 | 299 |\n| 28 | 40 | 299 |\n| 29 | 40 | 249 |\n| 30 | 40 | 199 |\n| 31 | 40 | 249 |\n| 32 | 40 | 249 |\n| 33 | 40 | 249 |\n\n",
            "text/latex": "A grouped\\_df: 34 × 3\n\\begin{tabular}{lll}\n date\\_block\\_num & category\\_id & median\\_price\\\\\n <int> & <int> & <dbl>\\\\\n\\hline\n\t  0 & 40 & 199\\\\\n\t  1 & 40 & 203\\\\\n\t  2 & 40 & 231\\\\\n\t  3 & 40 & 199\\\\\n\t  4 & 40 & 199\\\\\n\t  5 & 40 & 199\\\\\n\t  6 & 40 & 149\\\\\n\t  7 & 40 & 149\\\\\n\t  8 & 40 & 198\\\\\n\t  9 & 40 & 199\\\\\n\t 10 & 40 & 199\\\\\n\t 11 & 40 & 237\\\\\n\t 12 & 40 & 199\\\\\n\t 13 & 40 & 248\\\\\n\t 14 & 40 & 251\\\\\n\t 15 & 40 & 249\\\\\n\t 16 & 40 & 199\\\\\n\t 17 & 40 & 199\\\\\n\t 18 & 40 & 199\\\\\n\t 19 & 40 & 199\\\\\n\t 20 & 40 & 240\\\\\n\t 21 & 40 & 199\\\\\n\t 22 & 40 & 199\\\\\n\t 23 & 40 & 199\\\\\n\t 24 & 40 & 199\\\\\n\t 25 & 40 & 199\\\\\n\t 26 & 40 & 169\\\\\n\t 27 & 40 & 299\\\\\n\t 28 & 40 & 299\\\\\n\t 29 & 40 & 249\\\\\n\t 30 & 40 & 199\\\\\n\t 31 & 40 & 249\\\\\n\t 32 & 40 & 249\\\\\n\t 33 & 40 & 249\\\\\n\\end{tabular}\n",
            "text/plain": [
              "   date_block_num category_id median_price\n",
              "1   0             40          199         \n",
              "2   1             40          203         \n",
              "3   2             40          231         \n",
              "4   3             40          199         \n",
              "5   4             40          199         \n",
              "6   5             40          199         \n",
              "7   6             40          149         \n",
              "8   7             40          149         \n",
              "9   8             40          198         \n",
              "10  9             40          199         \n",
              "11 10             40          199         \n",
              "12 11             40          237         \n",
              "13 12             40          199         \n",
              "14 13             40          248         \n",
              "15 14             40          251         \n",
              "16 15             40          249         \n",
              "17 16             40          199         \n",
              "18 17             40          199         \n",
              "19 18             40          199         \n",
              "20 19             40          199         \n",
              "21 20             40          240         \n",
              "22 21             40          199         \n",
              "23 22             40          199         \n",
              "24 23             40          199         \n",
              "25 24             40          199         \n",
              "26 25             40          199         \n",
              "27 26             40          169         \n",
              "28 27             40          299         \n",
              "29 28             40          299         \n",
              "30 29             40          249         \n",
              "31 30             40          199         \n",
              "32 31             40          249         \n",
              "33 32             40          249         \n",
              "34 33             40          249         "
            ]
          },
          "metadata": {}
        }
      ]
    },
    {
      "cell_type": "code",
      "source": [
        "year2013 <- sales_mean[(sales_mean$date_block_num < 12), ]\n",
        "\n",
        "for (i in 2 : (nrow(year2013) - 1))\n",
        "{\n",
        "  if((year2013[i, 'mean_price'] < year2013[i-1, 'mean_price']) & (year2013[i, 'mean_price'] < year2013[i+1, 'mean_price']))\n",
        "  {\n",
        "    print(year2013[i, ])\n",
        "  }\n",
        "}"
      ],
      "metadata": {
        "colab": {
          "base_uri": "https://localhost:8080/"
        },
        "id": "5rkmZQTE9hIY",
        "outputId": "28dfc169-029b-4222-b74b-a682ea17cb23"
      },
      "execution_count": null,
      "outputs": [
        {
          "output_type": "stream",
          "name": "stdout",
          "text": [
            "\u001b[90m# A tibble: 1 × 3\u001b[39m\n",
            "\u001b[90m# Groups:   date_block_num [1]\u001b[39m\n",
            "  date_block_num category_id mean_price\n",
            "           \u001b[3m\u001b[90m<int>\u001b[39m\u001b[23m       \u001b[3m\u001b[90m<int>\u001b[39m\u001b[23m      \u001b[3m\u001b[90m<dbl>\u001b[39m\u001b[23m\n",
            "\u001b[90m1\u001b[39m              7          40       234.\n"
          ]
        }
      ]
    },
    {
      "cell_type": "code",
      "source": [
        "year2014 <- sales_mean[(sales_mean$date_block_num < 24) & (sales_mean$date_block_num >= 12), ]\n",
        "\n",
        "for (i in 2 : (nrow(year2014) - 1))\n",
        "{\n",
        "  if((year2014[i, 'mean_price'] < year2014[i-1, 'mean_price']) & (year2014[i, 'mean_price'] < year2014[i+1, 'mean_price']))\n",
        "  {\n",
        "    print(year2014[i, ])\n",
        "  }\n",
        "}"
      ],
      "metadata": {
        "colab": {
          "base_uri": "https://localhost:8080/"
        },
        "id": "y0cQDlLO9_Jm",
        "outputId": "80481139-234a-4261-b8c4-9752bf91c680"
      },
      "execution_count": null,
      "outputs": [
        {
          "output_type": "stream",
          "name": "stdout",
          "text": [
            "\u001b[90m# A tibble: 1 × 3\u001b[39m\n",
            "\u001b[90m# Groups:   date_block_num [1]\u001b[39m\n",
            "  date_block_num category_id mean_price\n",
            "           \u001b[3m\u001b[90m<int>\u001b[39m\u001b[23m       \u001b[3m\u001b[90m<int>\u001b[39m\u001b[23m      \u001b[3m\u001b[90m<dbl>\u001b[39m\u001b[23m\n",
            "\u001b[90m1\u001b[39m             16          40       254.\n",
            "\u001b[90m# A tibble: 1 × 3\u001b[39m\n",
            "\u001b[90m# Groups:   date_block_num [1]\u001b[39m\n",
            "  date_block_num category_id mean_price\n",
            "           \u001b[3m\u001b[90m<int>\u001b[39m\u001b[23m       \u001b[3m\u001b[90m<int>\u001b[39m\u001b[23m      \u001b[3m\u001b[90m<dbl>\u001b[39m\u001b[23m\n",
            "\u001b[90m1\u001b[39m             21          40       264.\n"
          ]
        }
      ]
    },
    {
      "cell_type": "code",
      "source": [
        "year2015 <- sales_mean[(sales_mean$date_block_num < 36) & (sales_mean$date_block_num >= 24), ]\n",
        "\n",
        "for (i in 2 : (nrow(year2015) - 1))\n",
        "{\n",
        "  if((year2015[i, 'mean_price'] < year2015[i-1, 'mean_price']) & (year2015[i, 'mean_price'] < year2015[i+1, 'mean_price']))\n",
        "  {\n",
        "    print(year2015[i, ])\n",
        "  }\n",
        "}"
      ],
      "metadata": {
        "colab": {
          "base_uri": "https://localhost:8080/"
        },
        "id": "46SzjI1p9_et",
        "outputId": "05da5c63-f1e3-40f0-ab87-b567cd96d87d"
      },
      "execution_count": null,
      "outputs": [
        {
          "output_type": "stream",
          "name": "stdout",
          "text": [
            "\u001b[90m# A tibble: 1 × 3\u001b[39m\n",
            "\u001b[90m# Groups:   date_block_num [1]\u001b[39m\n",
            "  date_block_num category_id mean_price\n",
            "           \u001b[3m\u001b[90m<int>\u001b[39m\u001b[23m       \u001b[3m\u001b[90m<int>\u001b[39m\u001b[23m      \u001b[3m\u001b[90m<dbl>\u001b[39m\u001b[23m\n",
            "\u001b[90m1\u001b[39m             25          40       256.\n",
            "\u001b[90m# A tibble: 1 × 3\u001b[39m\n",
            "\u001b[90m# Groups:   date_block_num [1]\u001b[39m\n",
            "  date_block_num category_id mean_price\n",
            "           \u001b[3m\u001b[90m<int>\u001b[39m\u001b[23m       \u001b[3m\u001b[90m<int>\u001b[39m\u001b[23m      \u001b[3m\u001b[90m<dbl>\u001b[39m\u001b[23m\n",
            "\u001b[90m1\u001b[39m             31          40       273.\n"
          ]
        }
      ]
    }
  ]
}